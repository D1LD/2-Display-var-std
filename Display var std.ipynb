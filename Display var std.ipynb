{
 "cells": [
  {
   "cell_type": "code",
   "execution_count": 1,
   "id": "23b09943-516e-41c5-840b-2eb972301200",
   "metadata": {},
   "outputs": [],
   "source": [
    "import numpy as np \n",
    "data=[100,40,10]"
   ]
  },
  {
   "cell_type": "code",
   "execution_count": 2,
   "id": "2a037f3d-71eb-4d52-ae6b-34add6f73e4d",
   "metadata": {},
   "outputs": [
    {
     "name": "stdout",
     "output_type": "stream",
     "text": [
      "sort:[10, 40, 100]\n"
     ]
    }
   ],
   "source": [
    "print('sort:{}'.format(sorted(data,reverse=0)))"
   ]
  },
  {
   "cell_type": "code",
   "execution_count": 3,
   "id": "2aa24c2c-ccde-4c20-8a43-6baa7c0f56ef",
   "metadata": {},
   "outputs": [
    {
     "name": "stdout",
     "output_type": "stream",
     "text": [
      "sort De:[100, 40, 10]\n"
     ]
    }
   ],
   "source": [
    "print(\"sort De:{}\".format(sorted(data,reverse=1)))"
   ]
  },
  {
   "cell_type": "code",
   "execution_count": 4,
   "id": "92c3daa0-841a-4fab-9652-a4741806e9f9",
   "metadata": {},
   "outputs": [
    {
     "name": "stdout",
     "output_type": "stream",
     "text": [
      "min:10\n"
     ]
    }
   ],
   "source": [
    "print(\"min:{}\".format(np.min(data)))"
   ]
  },
  {
   "cell_type": "code",
   "execution_count": 5,
   "id": "1ce3aee3-ac72-415d-ad8a-122d8b87c862",
   "metadata": {},
   "outputs": [
    {
     "name": "stdout",
     "output_type": "stream",
     "text": [
      "max:100\n"
     ]
    }
   ],
   "source": [
    "print(\"max:{}\".format(np.max(data)))"
   ]
  },
  {
   "cell_type": "code",
   "execution_count": 6,
   "id": "f5970b2b-1904-48c8-882d-93fb19c788a6",
   "metadata": {},
   "outputs": [
    {
     "name": "stdout",
     "output_type": "stream",
     "text": [
      "avg:50.0\n"
     ]
    }
   ],
   "source": [
    "print(\"avg:{}\".format(np.mean(data)))"
   ]
  },
  {
   "cell_type": "code",
   "execution_count": 7,
   "id": "429a3011-718f-4441-a066-7ee67fd24098",
   "metadata": {},
   "outputs": [
    {
     "name": "stdout",
     "output_type": "stream",
     "text": [
      "median:40.0\n"
     ]
    }
   ],
   "source": [
    "print(\"median:{}\".format(np.median(data)))"
   ]
  },
  {
   "cell_type": "code",
   "execution_count": 8,
   "id": "61d55437-6fee-4c34-abc5-e0f21db04e62",
   "metadata": {},
   "outputs": [
    {
     "name": "stdout",
     "output_type": "stream",
     "text": [
      "var:1400.0\n"
     ]
    }
   ],
   "source": [
    "print(\"var:{}\".format(np.var(data)))"
   ]
  },
  {
   "cell_type": "code",
   "execution_count": 9,
   "id": "f27e6328-f65e-48a0-9167-f46d5dad022a",
   "metadata": {},
   "outputs": [
    {
     "name": "stdout",
     "output_type": "stream",
     "text": [
      "std:37.416573867739416\n"
     ]
    }
   ],
   "source": [
    "print(\"std:{}\".format(np.std(data)))"
   ]
  },
  {
   "cell_type": "code",
   "execution_count": null,
   "id": "10ef37cb-1697-472c-a81c-8813cded19cb",
   "metadata": {},
   "outputs": [],
   "source": []
  }
 ],
 "metadata": {
  "kernelspec": {
   "display_name": "Python 3 (ipykernel)",
   "language": "python",
   "name": "python3"
  },
  "language_info": {
   "codemirror_mode": {
    "name": "ipython",
    "version": 3
   },
   "file_extension": ".py",
   "mimetype": "text/x-python",
   "name": "python",
   "nbconvert_exporter": "python",
   "pygments_lexer": "ipython3",
   "version": "3.9.12"
  }
 },
 "nbformat": 4,
 "nbformat_minor": 5
}
